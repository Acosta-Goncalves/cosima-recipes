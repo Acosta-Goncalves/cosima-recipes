{
 "cells": [
  {
   "cell_type": "markdown",
   "metadata": {},
   "source": [
    "# Making Maps with Cartopy\n",
    "\n",
    "This tutorial runs through a series of examples that demonstrate how to make maps using data from the COSIMA Cookbook. This tutorial focusses on mapping with Cartopy, but there is nothing wrong with using Basemap if you would prefer that option.\n"
   ]
  },
  {
   "cell_type": "code",
   "execution_count": null,
   "metadata": {},
   "outputs": [],
   "source": [
    "%matplotlib inline\n",
    "\n",
    "import matplotlib.pyplot as plt\n",
    "import xarray as xr\n",
    "import numpy as np\n",
    "import pandas as pd\n",
    "\n",
    "import IPython.display\n",
    "import cmocean as cm\n",
    "import cartopy.crs as ccrs\n",
    "import cosima_cookbook as cc"
   ]
  },
  {
   "cell_type": "markdown",
   "metadata": {},
   "source": [
    "We will use the SST field from an 0.25° resolution experiment as our sample data, but these maps should work with any 2D data."
   ]
  },
  {
   "cell_type": "code",
   "execution_count": null,
   "metadata": {},
   "outputs": [],
   "source": [
    "session = cc.database.create_session()\n",
    "expt = '025deg_jra55v13_ryf8485_gmredi6'\n",
    "variable = 'surface_temp'\n",
    "darray = cc.querying.getvar(expt,variable,session,n=-1)\n",
    "SST = darray.mean('time') - 273.15"
   ]
  },
  {
   "cell_type": "markdown",
   "metadata": {},
   "source": [
    "## Vanilla\n",
    "\n",
    "You can always make a vanilla plot of this data using `xarray`..."
   ]
  },
  {
   "cell_type": "code",
   "execution_count": null,
   "metadata": {},
   "outputs": [],
   "source": [
    "SST.plot()"
   ]
  },
  {
   "cell_type": "markdown",
   "metadata": {},
   "source": [
    "..., but this won't cut the mustard for publication. Also, note that there is distortion in the tripole region, north of 65°N.\n",
    "\n",
    "## Using Cartopy\n",
    "Instead, let's plot the same data with cartopy. This example uses the `Robinson` global projection -- but note that key argument in the plot function: `transform=ccrs.PlateCarree()` -- which is needed every time you plot something with cartopy. (Confusingly, you could also use a `PlateCarree` projection, not to be confused with the transformation ...)"
   ]
  },
  {
   "cell_type": "code",
   "execution_count": null,
   "metadata": {},
   "outputs": [],
   "source": [
    "plt.figure(figsize=(8,4))\n",
    "ax = plt.axes(projection=ccrs.Robinson())\n",
    "SST.plot.pcolormesh(ax=ax, transform=ccrs.PlateCarree(),x='xt_ocean', y='yt_ocean',cmap=cm.cm.thermal,vmin=-2,vmax=30)\n",
    "ax.coastlines()"
   ]
  },
  {
   "cell_type": "markdown",
   "metadata": {},
   "source": [
    "You can see that this looks a little better. \n",
    "\n",
    "## Colouring in the land\n",
    "Personally, I don't like such a huge colorbar, and would prefer the land to be something other than white. So I am more inclined to do something like the following."
   ]
  },
  {
   "cell_type": "code",
   "execution_count": null,
   "metadata": {},
   "outputs": [],
   "source": [
    "import cartopy.feature as cft\n",
    "land_50m = cft.NaturalEarthFeature('physical', 'land', '50m',\n",
    "                                        edgecolor='black',\n",
    "                                        facecolor='gray',linewidth=0.5)"
   ]
  },
  {
   "cell_type": "code",
   "execution_count": null,
   "metadata": {},
   "outputs": [],
   "source": [
    "plt.figure(figsize=(8,4))\n",
    "ax = plt.axes(projection=ccrs.Robinson())\n",
    "ax.add_feature(land_50m)\n",
    "gl = ax.gridlines(draw_labels=False)\n",
    "p1 = SST.plot.pcolormesh(ax=ax, transform=ccrs.PlateCarree(),x='xt_ocean', y='yt_ocean',cmap=cm.cm.thermal,add_colorbar=False,vmin=-2,vmax=30)\n",
    "plt.title('Time-mean Sea Surface Temperature')\n",
    "\n",
    "ax_cb = plt.axes([0.92,0.25,0.015,0.5])\n",
    "cb = plt.colorbar(p1,cax=ax_cb,orientation='vertical')\n",
    "cb.ax.set_ylabel('SST (°C)')"
   ]
  },
  {
   "cell_type": "markdown",
   "metadata": {},
   "source": [
    "However, there is still a glitch in this plot -- because data in the tripole region is distorted. This occurs because the axes `xt_ocean` and `yt_ocean` are actually incorrect in the tripole region. \n",
    "\n",
    "## Fixing the tripole\n",
    "Instead, we need to plot with the 2D arrays of x and y locations -- `geolon_t` and `geolat_t` which we save as static data from each run."
   ]
  },
  {
   "cell_type": "code",
   "execution_count": null,
   "metadata": {},
   "outputs": [],
   "source": [
    "geolon_t = cc.querying.getvar(expt,'geolon_t',session,n=-1)\n",
    "geolat_t = cc.querying.getvar(expt,'geolat_t',session,n=-1)\n",
    "\n",
    "plt.figure(figsize=(8,4))\n",
    "ax = plt.axes(projection=ccrs.Robinson())\n",
    "ax.coastlines(resolution='50m')\n",
    "ax.add_feature(land_50m)\n",
    "gl = ax.gridlines(draw_labels=False)\n",
    "p1 = ax.contourf(geolon_t, geolat_t, SST,33, transform=ccrs.PlateCarree(),cmap=cm.cm.thermal,vmin=-2,vmax=30)\n",
    "plt.title('Time-mean Sea Surface Temperature')\n",
    "\n",
    "ax_cb = plt.axes([0.92,0.25,0.015,0.5])\n",
    "cb = plt.colorbar(p1,cax=ax_cb,orientation='vertical')\n",
    "cb.ax.set_ylabel('SST (°C)')\n",
    "\n"
   ]
  },
  {
   "cell_type": "markdown",
   "metadata": {},
   "source": [
    "OK, so that's a bit better. But you may have noticed that I used contourf to make this map: I can't use `pcolormesh` in this instance, because `geolon_t` and `geolat_t` are masked (and `pcolormesh` can't cope with underfined coordinates). Your options here are to:\n",
    "* Try contourf instead - it should work;\n",
    "* Use `pcolor`, noting that this sometimes very slow;\n",
    "* Read in a file that I prepared earlier ..."
   ]
  },
  {
   "cell_type": "code",
   "execution_count": null,
   "metadata": {},
   "outputs": [],
   "source": [
    "geolon_t = xr.open_dataset('/g/data/ik11/grids/ocean_grid_025.nc').geolon_t\n",
    "geolat_t = xr.open_dataset('/g/data/ik11/grids/ocean_grid_025.nc').geolat_t"
   ]
  },
  {
   "cell_type": "code",
   "execution_count": null,
   "metadata": {},
   "outputs": [],
   "source": [
    "plt.figure(figsize=(8,4))\n",
    "ax = plt.axes(projection=ccrs.Robinson())\n",
    "ax.coastlines(resolution='50m')\n",
    "ax.add_feature(land_50m)\n",
    "gl = ax.gridlines(draw_labels=False)\n",
    "p1 = ax.pcolormesh(geolon_t, geolat_t, SST, transform=ccrs.PlateCarree(),cmap=cm.cm.thermal,vmin=-2,vmax=30)\n",
    "plt.title('Time-mean Sea Surface Temperature')\n",
    "\n",
    "ax_cb = plt.axes([0.92,0.25,0.015,0.5])\n",
    "cb = plt.colorbar(p1,cax=ax_cb,orientation='vertical')\n",
    "cb.ax.set_ylabel('SST (°C)')"
   ]
  },
  {
   "cell_type": "markdown",
   "metadata": {},
   "source": [
    "This is about as good as we can get. Note that there are some mismatches between the coastlines in the model and reality, principally around Antarctica and the Canadian Archipelago. Also, note that the `ocean_grid_025.nc` file used here will only work for 0.25° resolution cases - check to see if others are available.\n",
    "\n",
    "## Projections\n",
    "Here are a few interesting projections you can use with cartopy that might be good for other applications. Note that if you decide to use a map region which extends north of 65°N, you should use the 2D coordinte files as per above.\n",
    "\n",
    "### Near Sided Perspective"
   ]
  },
  {
   "cell_type": "code",
   "execution_count": null,
   "metadata": {},
   "outputs": [],
   "source": [
    "fig = plt.figure(figsize=(10,9))\n",
    "ax = plt.axes(projection=ccrs.NearsidePerspective(central_longitude=165.0, central_latitude=-40.0, satellite_height=2500000))#=35785831))      \n",
    "ax.add_feature(land_50m,color='g')\n",
    "p1=SST.plot.pcolormesh(add_colorbar=False,vmin=-2,vmax=30,cmap=cm.cm.thermal,transform=ccrs.PlateCarree())\n",
    "\n",
    "\n",
    "ax_cb = plt.axes([0.92,0.25,0.015,0.5])\n",
    "cb = plt.colorbar(p1,cax=ax_cb,orientation='vertical')\n",
    "cb.ax.set_ylabel('SST (°C)')"
   ]
  },
  {
   "cell_type": "markdown",
   "metadata": {},
   "source": [
    "### South Polar Stereo\n",
    "Note that this plot, by default, shows the entire globe, which minimises the area of the South Pole region. So, we have to cut an area of the figure to focus down on it. "
   ]
  },
  {
   "cell_type": "code",
   "execution_count": null,
   "metadata": {},
   "outputs": [],
   "source": [
    "import matplotlib.path as mpath\n",
    "\n",
    "projection=ccrs.SouthPolarStereo()\n",
    "\n",
    "fig = plt.figure(figsize=(10,9))\n",
    "ax = plt.subplot(1, 1, 1, projection=projection)\n",
    "\n",
    "ax.set_extent([-280, 80, -80, -35], crs=ccrs.PlateCarree())\n",
    "ax.add_feature(land_50m,color=[0.8, 0.8, 0.8])\n",
    "ax.coastlines(resolution='50m')\n",
    "\n",
    "# Compute a circle in axes coordinates, which we can use as a boundary\n",
    "# for the map. We can pan/zoom as much as we like - the boundary will be\n",
    "# permanently circular.\n",
    "theta = np.linspace(0, 2*np.pi, 100)\n",
    "center, radius = [0.5, 0.5], 0.5\n",
    "verts = np.vstack([np.sin(theta), np.cos(theta)]).T\n",
    "circle = mpath.Path(verts * radius + center)\n",
    "ax.set_boundary(circle, transform=ax.transAxes)\n",
    "\n",
    "\n",
    "p1=SST.plot.pcolormesh(add_colorbar=False,vmin=-2,vmax=30,cmap=cm.cm.thermal,transform=ccrs.PlateCarree())\n",
    "\n",
    "\n",
    "ax_cb = plt.axes([0.92,0.25,0.015,0.5])\n",
    "cb = plt.colorbar(p1,cax=ax_cb,orientation='vertical')\n",
    "cb.ax.set_ylabel('SST (°C)')"
   ]
  },
  {
   "cell_type": "markdown",
   "metadata": {},
   "source": [
    "### Mercator regional plot"
   ]
  },
  {
   "cell_type": "code",
   "execution_count": null,
   "metadata": {},
   "outputs": [],
   "source": [
    "projection=ccrs.Mercator(central_longitude=0.0, min_latitude=-70.0, max_latitude=-20.0)\n",
    "\n",
    "fig = plt.figure(figsize=(10,5))\n",
    "ax = plt.subplot(1, 1, 1, projection=projection)\n",
    "\n",
    "\n",
    "ax.set_extent([-100, 50, -70, -20], crs=ccrs.PlateCarree())\n",
    "ax.add_feature(land_50m,color=[0.8, 0.8, 0.8])\n",
    "ax.coastlines(resolution='50m')\n",
    "\n",
    "\n",
    "p1=SST.plot.pcolormesh(add_colorbar=False,vmin=-2,vmax=30,cmap=cm.cm.thermal,transform=ccrs.PlateCarree())\n",
    "\n",
    "\n",
    "ax_cb = plt.axes([0.92,0.25,0.015,0.5])\n",
    "cb = plt.colorbar(p1,cax=ax_cb,orientation='vertical')\n",
    "cb.ax.set_ylabel('SST (°C)')"
   ]
  },
  {
   "cell_type": "markdown",
   "metadata": {},
   "source": [
    "### Sector map\n",
    "\n",
    "This map shows a sector of the Southern Ocean. It involves a Stereographic projection and a fairly complicated cutout to set the boundary of the map, but gives a nice result."
   ]
  },
  {
   "cell_type": "code",
   "execution_count": null,
   "metadata": {},
   "outputs": [],
   "source": [
    "# function to make boundary path\n",
    "# make a path around boundary to create a sector map, then cut it out\n",
    "def make_boundary_path(lons,lats):\n",
    "    boundary_path = np.array([lons[-1,:],lats[-1,:]])\n",
    "    boundary_path = np.append(boundary_path,np.array([lons[::-1,-1],lats[::-1,-1]]),axis=1)\n",
    "    boundary_path = np.append(boundary_path,np.array([lons[1,::-1],lats[1,::-1]]),axis=1)\n",
    "    boundary_path = np.append(boundary_path,np.array([lons[:,1],lats[:,1]]),axis=1)\n",
    "    boundary_path = mpath.Path(np.swapaxes(boundary_path, 0, 1))\n",
    "    return boundary_path"
   ]
  },
  {
   "cell_type": "code",
   "execution_count": null,
   "metadata": {},
   "outputs": [],
   "source": [
    "fig = plt.figure(figsize=(12,6.5))\n",
    "\n",
    "midlon = -40\n",
    "maxlon = midlon + 60\n",
    "minlon = midlon-60\n",
    "minlat = -75\n",
    "maxlat = -30\n",
    "midlat = (minlat + maxlat)/2\n",
    "\n",
    "ax = plt.axes(projection=ccrs.Stereographic(central_longitude=midlon,central_latitude=midlat))\n",
    "ax.add_feature(land_50m)\n",
    "ax.coastlines(resolution='50m')\n",
    "\n",
    "lons = geolon_t.sel(xt_ocean=slice(minlon,maxlon)).sel(yt_ocean=slice(minlat,maxlat))\n",
    "lats = geolat_t.sel(xt_ocean=slice(minlon,maxlon)).sel(yt_ocean=slice(minlat,maxlat))\n",
    "\n",
    "ax.set_extent([minlon, maxlon, minlat, maxlat], crs=ccrs.PlateCarree())\n",
    "\n",
    "boundary_path = make_boundary_path(lons,lats)\n",
    "ax.set_boundary(boundary_path, transform=ccrs.PlateCarree())\n",
    "\n",
    "p1=SST.plot.pcolormesh(add_colorbar=False,vmin=-2,vmax=30,cmap=cm.cm.thermal,transform=ccrs.PlateCarree())\n",
    "\n",
    "ax_cb = plt.axes([0.92,0.25,0.015,0.5])\n",
    "cb = plt.colorbar(p1,cax=ax_cb,orientation='vertical')\n",
    "cb.ax.set_ylabel('SST (°C)')"
   ]
  },
  {
   "cell_type": "markdown",
   "metadata": {},
   "source": [
    "You can see a wider selection of cartopy projections here: https://scitools.org.uk/cartopy/docs/latest/crs/projections.html"
   ]
  },
  {
   "cell_type": "code",
   "execution_count": null,
   "metadata": {},
   "outputs": [],
   "source": []
  }
 ],
 "metadata": {
  "kernelspec": {
   "display_name": "Python [conda env:analysis3-20.01]",
   "language": "python",
   "name": "conda-env-analysis3-20.01-py"
  },
  "language_info": {
   "codemirror_mode": {
    "name": "ipython",
    "version": 3
   },
   "file_extension": ".py",
   "mimetype": "text/x-python",
   "name": "python",
   "nbconvert_exporter": "python",
   "pygments_lexer": "ipython3",
   "version": "3.7.6"
  }
 },
 "nbformat": 4,
 "nbformat_minor": 2
}
