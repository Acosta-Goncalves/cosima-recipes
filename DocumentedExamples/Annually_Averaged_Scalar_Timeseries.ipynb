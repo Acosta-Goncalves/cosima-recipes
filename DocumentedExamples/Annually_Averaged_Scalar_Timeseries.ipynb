{
 "cells": [
  {
   "cell_type": "markdown",
   "metadata": {},
   "source": [
    "# Annually Averaged Scalar Timeseries\n",
    "\n",
    "This notebook shows how we extract information from ocean_scalar to plot timeseries. The data are resampled onto annual averages.\n",
    "\n",
    "\n",
    "**Requirements:** The `conda/analysis3-19.04` (or later) module on the VDI (or your own up-to-date cookbook installation)."
   ]
  },
  {
   "cell_type": "markdown",
   "metadata": {},
   "source": [
    "**Firstly,** load in the required libraries:"
   ]
  },
  {
   "cell_type": "code",
   "execution_count": null,
   "metadata": {},
   "outputs": [],
   "source": [
    "%matplotlib inline\n",
    "\n",
    "import cosima_cookbook as cc\n",
    "import matplotlib.pyplot as plt\n",
    "from dask.distributed import Client"
   ]
  },
  {
   "cell_type": "markdown",
   "metadata": {},
   "source": [
    "It's often a good idea to start a cluster with multiple cores for you to work with. It's not strictly necessary in this case."
   ]
  },
  {
   "cell_type": "code",
   "execution_count": null,
   "metadata": {},
   "outputs": [],
   "source": [
    "client = Client(n_workers=4)\n",
    "client"
   ]
  },
  {
   "cell_type": "markdown",
   "metadata": {},
   "source": [
    "**Next,** we show to plot a single variable from a single experiment. The variable is loaded using ```get_nc_variable```. Note that we reference dates to 1900, so that we can use pandas to ```resample``` the data onto annual frequency. "
   ]
  },
  {
   "cell_type": "code",
   "execution_count": null,
   "metadata": {},
   "outputs": [],
   "source": [
    "expt =  '025deg_jra55v13_ryf8485_KDS75'\n",
    "variable = 'ke_tot'\n",
    "darray = cc.get_nc_variable(expt,\n",
    "                             'ocean_scalar.nc',\n",
    "                             variable,\n",
    "                             time_units='days since 1900-01-01')\n",
    "annual_average = darray.resample(time='A').mean()"
   ]
  },
  {
   "cell_type": "markdown",
   "metadata": {},
   "source": [
    "**Then,** the data can be plotted as you see fit:"
   ]
  },
  {
   "cell_type": "code",
   "execution_count": null,
   "metadata": {},
   "outputs": [],
   "source": [
    "plt.figure(figsize=(8,5))\n",
    "annual_average.plot()\n",
    "plt.title(expt)"
   ]
  },
  {
   "cell_type": "markdown",
   "metadata": {},
   "source": [
    "**Note that different ACCESS-OM2 simulations use differing time stamp conventions for their output. This may require you to offset the dates or adjust the time_units to obtain the time axis you would like.** \n"
   ]
  },
  {
   "cell_type": "code",
   "execution_count": null,
   "metadata": {},
   "outputs": [],
   "source": [
    "darray"
   ]
  },
  {
   "cell_type": "code",
   "execution_count": null,
   "metadata": {},
   "outputs": [],
   "source": []
  }
 ],
 "metadata": {
  "kernelspec": {
   "display_name": "Python [conda env:analysis3-18.10]",
   "language": "python",
   "name": "conda-env-analysis3-18.10-py"
  },
  "language_info": {
   "codemirror_mode": {
    "name": "ipython",
    "version": 3
   },
   "file_extension": ".py",
   "mimetype": "text/x-python",
   "name": "python",
   "nbconvert_exporter": "python",
   "pygments_lexer": "ipython3",
   "version": "3.6.7"
  }
 },
 "nbformat": 4,
 "nbformat_minor": 2
}
