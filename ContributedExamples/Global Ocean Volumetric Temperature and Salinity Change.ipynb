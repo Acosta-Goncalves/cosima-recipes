{
 "cells": [
  {
   "cell_type": "markdown",
   "metadata": {},
   "source": [
    "# Global Ocean volumetric Temperature and Salinity change"
   ]
  },
  {
   "cell_type": "code",
   "execution_count": 76,
   "metadata": {},
   "outputs": [],
   "source": [
    "#Required Library\n",
    "import matplotlib.pyplot as plt\n",
    "import xarray as xr\n",
    "import numpy as np\n",
    "import pandas as pd\n",
    "import IPython.display\n",
    "import cmocean as cm\n",
    "import cartopy.crs as ccrs\n",
    "import cosima_cookbook as cc"
   ]
  },
  {
   "cell_type": "markdown",
   "metadata": {},
   "source": [
    "In this script I have computed the global volume mean temperature change, same calculation valid for salinity as well.\n",
    "and mathematically it is defined as  \n",
    "< ${\\Theta} >  = $$\\int{\\Theta}dv /\\int(dv)$\n",
    "Note;\n",
    "1. To compute volume,Multiply dzt with area_t where area_t is area of the ocean and it is two dimensional where as\n",
    "   dzt is a thickness of the vertical grid cell which is 4 dimensional ( including time)\n",
    "2. We multipy temperature with Volume calculated above and then integrate in horizontally and vertically and the \n",
    "   resultant sum devided by horizontally and vertically avergae volume aas shown in equation above.\n",
    "\n",
    "\n",
    "   \n",
    "\n",
    "   "
   ]
  },
  {
   "cell_type": "code",
   "execution_count": 77,
   "metadata": {},
   "outputs": [],
   "source": [
    "#Deafult data set reading here and can be created by own database\n",
    "session = cc.database.create_session()"
   ]
  },
  {
   "cell_type": "code",
   "execution_count": 78,
   "metadata": {
    "scrolled": true
   },
   "outputs": [],
   "source": [
    "#Some basic function tom get more detilas about experiments and files\n",
    "#df =cc.querying.get_experiments(session)\n",
    "#cc.querying.get_experiments(session)\n",
    "#pd.set.option()"
   ]
  },
  {
   "cell_type": "code",
   "execution_count": 81,
   "metadata": {},
   "outputs": [],
   "source": [
    "#expt ='1deg_jra55_ryf9091_spinup1_B1'\n",
    "#variable ='temp'\n",
    "#pd.set_option(\"display.max_rows\",200) # to see max number of experiments \n",
    "#df\n",
    "#df.iloc[30:50]  #to check the experiment for providing an index"
   ]
  },
  {
   "cell_type": "code",
   "execution_count": 22,
   "metadata": {},
   "outputs": [],
   "source": [
    "#darray =cc.querying.getvar('025deg_jra55v13_ryf8485_gmredi6','temp',session,ncfile='ocean_month.nc')"
   ]
  },
  {
   "cell_type": "code",
   "execution_count": 82,
   "metadata": {},
   "outputs": [
    {
     "name": "stderr",
     "output_type": "stream",
     "text": [
      "/g/data3/hh5/public/apps/miniconda3/envs/analysis3-20.01/lib/python3.7/site-packages/distributed/dashboard/core.py:79: UserWarning: \n",
      "Port 8787 is already in use. \n",
      "Perhaps you already have a cluster running?\n",
      "Hosting the diagnostics dashboard on a random port instead.\n",
      "  warnings.warn(\"\\n\" + msg)\n"
     ]
    },
    {
     "data": {
      "text/html": [
       "<table style=\"border: 2px solid white;\">\n",
       "<tr>\n",
       "<td style=\"vertical-align: top; border: 0px solid white\">\n",
       "<h3 style=\"text-align: left;\">Client</h3>\n",
       "<ul style=\"text-align: left; list-style: none; margin: 0; padding: 0;\">\n",
       "  <li><b>Scheduler: </b>tcp://127.0.0.1:40855</li>\n",
       "  <li><b>Dashboard: </b><a href='http://127.0.0.1:37348/status' target='_blank'>http://127.0.0.1:37348/status</a>\n",
       "</ul>\n",
       "</td>\n",
       "<td style=\"vertical-align: top; border: 0px solid white\">\n",
       "<h3 style=\"text-align: left;\">Cluster</h3>\n",
       "<ul style=\"text-align: left; list-style:none; margin: 0; padding: 0;\">\n",
       "  <li><b>Workers: </b>4</li>\n",
       "  <li><b>Cores: </b>8</li>\n",
       "  <li><b>Memory: </b>33.67 GB</li>\n",
       "</ul>\n",
       "</td>\n",
       "</tr>\n",
       "</table>"
      ],
      "text/plain": [
       "<Client: 'tcp://127.0.0.1:40855' processes=4 threads=8, memory=33.67 GB>"
      ]
     },
     "execution_count": 82,
     "metadata": {},
     "output_type": "execute_result"
    }
   ],
   "source": [
    "from dask.distributed import Client\n",
    "client = Client(n_workers=4)\n",
    "client"
   ]
  },
  {
   "cell_type": "code",
   "execution_count": 83,
   "metadata": {},
   "outputs": [],
   "source": [
    "temp =cc.querying.getvar('025deg_jra55v13_ryf8485_gmredi6','temp',session,ncfile='ocean.nc')"
   ]
  },
  {
   "cell_type": "code",
   "execution_count": 84,
   "metadata": {},
   "outputs": [],
   "source": [
    "dzt =cc.querying.getvar('025deg_jra55v13_ryf8485_gmredi6','dzt',session,ncfile='ocean.nc')"
   ]
  },
  {
   "cell_type": "code",
   "execution_count": 85,
   "metadata": {},
   "outputs": [],
   "source": [
    "grid  =xr.open_dataset('/g/data3/hh5/tmp/cosima/access-om2-025/025deg_jra55v13_ryf8485_gmredi6/output111/ocean/ocean_grid.nc') #we should have have function which give to us a grid variable \n",
    "#grid   #Note: We should include the function which directly read the grid files because heer I need to provide explicity read the ocean_grid.nc file"
   ]
  },
  {
   "cell_type": "code",
   "execution_count": 86,
   "metadata": {},
   "outputs": [],
   "source": [
    "Volume=dzt*grid.area_t #broadcasting\n",
    "Volume=Volume.fillna(0) #NAN values to zeros as weighted average does not consider NaN values"
   ]
  },
  {
   "cell_type": "code",
   "execution_count": 89,
   "metadata": {
    "scrolled": true
   },
   "outputs": [],
   "source": [
    "tot_vol =Volume.isel(time=0).sum()\n",
    "#tot_vol.compute()"
   ]
  },
  {
   "cell_type": "code",
   "execution_count": 93,
   "metadata": {},
   "outputs": [],
   "source": [
    "Volume_mean_temp=temp.isel(time=0).weighted(Volume.isel(time=0)).mean()\n",
    "#Volume_mean_temp.compute()"
   ]
  },
  {
   "cell_type": "code",
   "execution_count": 97,
   "metadata": {},
   "outputs": [
    {
     "name": "stderr",
     "output_type": "stream",
     "text": [
      "/g/data3/hh5/public/apps/miniconda3/envs/analysis3-20.01/lib/python3.7/site-packages/xarray/core/computation.py:1215: FutureWarning: This DataArray contains multi-dimensional coordinates. In the future, these coordinates will be transposed as well unless you specify transpose_coords=False.\n",
      "  return result.transpose(*[d for d in all_dims if d in result.dims])\n",
      "/g/data3/hh5/public/apps/miniconda3/envs/analysis3-20.01/lib/python3.7/site-packages/xarray/core/computation.py:1215: FutureWarning: This DataArray contains multi-dimensional coordinates. In the future, these coordinates will be transposed as well unless you specify transpose_coords=False.\n",
      "  return result.transpose(*[d for d in all_dims if d in result.dims])\n"
     ]
    }
   ],
   "source": [
    "Volume_mean_temp=temp.isel(time=slice(0,20)).weighted(Volume.isel(time=slice(0,20))).mean('st_ocean').mean('xt_ocean').mean('yt_ocean')\n",
    "Volume_mean_temp_deg =Volume_mean_temp-273.15 #Kelvin to Celsius\n",
    "#Volume_mean_temp_deg.plot()"
   ]
  },
  {
   "cell_type": "markdown",
   "metadata": {},
   "source": [
    "# Global mean temperature without weighted"
   ]
  },
  {
   "cell_type": "code",
   "execution_count": 122,
   "metadata": {},
   "outputs": [],
   "source": [
    "global_temp =temp.isel(time=slice(0,20)).mean('st_ocean').mean('xt_ocean').mean('yt_ocean')\n",
    "global_temp_deg =global_temp-273.15 #Kelvin to Celsius"
   ]
  },
  {
   "cell_type": "code",
   "execution_count": 120,
   "metadata": {},
   "outputs": [],
   "source": [
    "#global_temp.plot()"
   ]
  },
  {
   "cell_type": "code",
   "execution_count": 124,
   "metadata": {},
   "outputs": [
    {
     "data": {
      "text/plain": [
       "Text(0.5, 1.0, 'Global mean Temperature Change')"
      ]
     },
     "execution_count": 124,
     "metadata": {},
     "output_type": "execute_result"
    },
    {
     "data": {
      "image/png": "[encoded data removed]",
      "text/plain": [
       "<Figure size 1296x720 with 2 Axes>"
      ]
     },
     "metadata": {
      "needs_background": "light"
     },
     "output_type": "display_data"
    }
   ],
   "source": [
    "fig = plt.figure(figsize=(18,10))\n",
    "ax = fig.add_subplot(2, 1, 1)\n",
    "ax.plot(Volume_mean_temp_deg,'b')\n",
    "plt.ylim(2.71,2.75)\n",
    "plt.xlabel('Years')\n",
    "plt.ylabel('Temperature ($^\\circ$C)')\n",
    "plt.title('Volumetric Temperature Change')\n",
    "\n",
    "ax = fig.add_subplot(2, 1, 2)\n",
    "ax.plot(global_temp_deg,'k')\n",
    "#plt.ylim(2.70,2.73)\n",
    "plt.xlabel('Years')\n",
    "plt.ylabel('Temperature ($^\\circ$C)')\n",
    "plt.title('Global mean Temperature Change')"
   ]
  },
  {
   "cell_type": "code",
   "execution_count": null,
   "metadata": {},
   "outputs": [],
   "source": [
    "plt.savefig('Global_ocean_volume_mean_temperature.png')"
   ]
  },
  {
   "cell_type": "code",
   "execution_count": null,
   "metadata": {},
   "outputs": [],
   "source": []
  }
 ],
 "metadata": {
  "kernelspec": {
   "display_name": "Python [conda env:analysis3-20.01] *",
   "language": "python",
   "name": "conda-env-analysis3-20.01-py"
  },
  "language_info": {
   "codemirror_mode": {
    "name": "ipython",
    "version": 3
   },
   "file_extension": ".py",
   "mimetype": "text/x-python",
   "name": "python",
   "nbconvert_exporter": "python",
   "pygments_lexer": "ipython3",
   "version": "3.7.6"
  }
 },
 "nbformat": 4,
 "nbformat_minor": 4
}
