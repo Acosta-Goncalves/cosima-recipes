{
 "cells": [
  {
   "cell_type": "markdown",
   "metadata": {},
   "source": [
    "# Surface Water-Mass Transformation \n",
    "\n",
    "In this notebook, we compute surface water-mass transformation rates (both in the net and partitioned into contributions from heat and salt fluxes) for the southern ocean, south of 60$^\\circ$S. \n",
    "\n",
    "Here we are looking specifically at ACCESS-OM2-01 output (0.1$^\\circ$ resolution, latest spinup), as this configuration has demonstrated considerable success when simulating high latitude dense water formation processes. "
   ]
  },
  {
   "cell_type": "markdown",
   "metadata": {},
   "source": [
    "## 1. Defining surface water-mass transformation\n",
    "\n",
    "The surface water-mass transformation framework described here follows [Newsom *et al* (2016)](https://journals.ametsoc.org/doi/full/10.1175/JCLI-D-15-0513.1) and [Abernathey *et al* (2016)](https://www.nature.com/articles/ngeo2749). Surface water-mass transformation may be defined as the volume flux into a given density class ($\\sigma$) from lighter density classes ($\\sigma'<\\sigma$) due to surface buoyancy forcing. Integrated over a region of the ocean surface, this volume flux can be expressed as,\n",
    "\n",
    "\n",
    "\\begin{equation}\\Omega(\\sigma,t)=\\frac{\\partial}{\\partial\\sigma}\\iint_{\\sigma'<\\sigma}\\Big(\\frac{\\partial\\sigma}{\\partial\\theta}\\theta + \\frac{\\partial\\sigma}{\\partial S}S\\Big)\\,dx\\,dy\\end{equation}\n",
    "\n",
    "where $t$ is time, and the terms in the integrand are the potential temperature ($\\theta$) flux and salinity ($S$) flux components of the surface buoyancy flux. The linearity of this expression means we can extract the relative contributions of heat ($\\Omega_\\text{heat}$) and salinity ($\\Omega_\\text{fw}$) fluxes to surface water-mass transformation, highlighting driving mechanisms."
   ]
  },
  {
   "cell_type": "markdown",
   "metadata": {},
   "source": [
    "## 2. Requirements\n",
    "\n",
    "**The cosima-cookbook**: The `conda/analysis3-20.04` (or later) module on NCI (or your own up-to-date cookbook installation).\n",
    "\n",
    "**Model diagnostics**: for this example I use some of the long RYF9091 spinup output, if you want to use do surface water-mass transformation analysis on a different experiment you'll need to check you have saved the required diagnostics.\n",
    "\n",
    "#### Warning: if you are using a surface heat flux diagnostic computed online by an ACCESS-OM2 run, make sure that this diagnostic is computed correctly! Some issues were found in the online computation of net_sfc_heating (see this [git issue](https://github.com/COSIMA/access-om2/issues/139) from March 2019). In this example we compute net surface heat fluxes offline from component fluxes to avoid these problems - if in doubt use the component fluxes as done here. If you dont have these variables saved and can't re-run...net_sfc_heating isn't really so bad for near Antarctic surface water-mass transformation calculations, since transformation rates are strongly dominated by freshwater fluxes, so the errors in heat fluxes confer only a small error to transformation rates.\n",
    "\n",
    "You'll need at least monthly resolution (in diag table language...): `surface_temp`, `surface_salt`, `pme_river`, `sfc_hflux_from_runoff`, `sfc_hflux_coupler`, `sfc_hflux_pme` and `frazil_3d_int_z` (although the latter is not strictly a surface flux, instead frazil heat fluxes are vertically integrated over the column. BUT this variable is highly surface intensified and, in most cases, conseputally relevant to what we want to know from SWMT analysis) plus some basic gridding information."
   ]
  },
  {
   "cell_type": "markdown",
   "metadata": {},
   "source": [
    "## 3. Computing surface water-mass transformation"
   ]
  },
  {
   "cell_type": "markdown",
   "metadata": {},
   "source": [
    "First, import some required modules and functions."
   ]
  },
  {
   "cell_type": "code",
   "execution_count": 1,
   "metadata": {},
   "outputs": [],
   "source": [
    "%matplotlib inline\n",
    "\n",
    "import xarray as xr\n",
    "import numpy as np\n",
    "import dask.array\n",
    "import cosima_cookbook as cc\n",
    "from gsw import alpha, SA_from_SP, p_from_z, CT_from_pt, beta, sigma1 \n",
    "# note these gsw numpy functions mean some care is needed to avoid memory issues in very high-res analysis \n",
    "\n",
    "## plotting\n",
    "import matplotlib.pyplot as plt\n",
    "from matplotlib import gridspec\n",
    "import cmocean.cm as cmo\n",
    "import matplotlib.colors as col\n",
    "import cartopy.crs as ccrs\n",
    "import matplotlib.path as mpath\n",
    "from matplotlib import rc\n",
    "rc('text', usetex=True)\n",
    "rc('xtick', labelsize=25) \n",
    "rc('ytick', labelsize=25) \n",
    "rc('axes', labelsize=25) "
   ]
  },
  {
   "cell_type": "markdown",
   "metadata": {},
   "source": [
    "You should also set up a dask client - this code uses the vanilla method for doing this. I suggest using an entire node (48 cores) and Gadi for this calculation."
   ]
  },
  {
   "cell_type": "code",
   "execution_count": 2,
   "metadata": {},
   "outputs": [
    {
     "data": {
      "text/html": [
       "<table style=\"border: 2px solid white;\">\n",
       "<tr>\n",
       "<td style=\"vertical-align: top; border: 0px solid white\">\n",
       "<h3 style=\"text-align: left;\">Client</h3>\n",
       "<ul style=\"text-align: left; list-style: none; margin: 0; padding: 0;\">\n",
       "  <li><b>Scheduler: </b>tcp://127.0.0.1:44173</li>\n",
       "  <li><b>Dashboard: </b><a href='/proxy/8787/status' target='_blank'>/proxy/8787/status</a>\n",
       "</ul>\n",
       "</td>\n",
       "<td style=\"vertical-align: top; border: 0px solid white\">\n",
       "<h3 style=\"text-align: left;\">Cluster</h3>\n",
       "<ul style=\"text-align: left; list-style:none; margin: 0; padding: 0;\">\n",
       "  <li><b>Workers: </b>4</li>\n",
       "  <li><b>Cores: </b>8</li>\n",
       "  <li><b>Memory: </b>34.36 GB</li>\n",
       "</ul>\n",
       "</td>\n",
       "</tr>\n",
       "</table>"
      ],
      "text/plain": [
       "<Client: 'tcp://127.0.0.1:44173' processes=4 threads=8, memory=34.36 GB>"
      ]
     },
     "execution_count": 2,
     "metadata": {},
     "output_type": "execute_result"
    }
   ],
   "source": [
    "## once you've set up a dask-worker, connect to it, click the dashboard link to check worker status\n",
    "from dask.distributed import Client\n",
    "client = Client()\n",
    "client"
   ]
  },
  {
   "cell_type": "markdown",
   "metadata": {},
   "source": [
    "I'll be using output from the ACCESS-OM2-01 RYF9091 spinup, which is still running as I'm writing this example. "
   ]
  },
  {
   "cell_type": "code",
   "execution_count": 2,
   "metadata": {},
   "outputs": [],
   "source": [
    "db = '/g/data/ik11/databases/ryf9091.db'\n",
    "session = cc.database.create_session(db)\n",
    "expt = '01deg_jra55v13_ryf9091'"
   ]
  },
  {
   "cell_type": "markdown",
   "metadata": {},
   "source": [
    "#### The function below will compute  surface water-mass transformation rates for the southern ocean, averaged over an integer number of years of monthly resolution output. Below I have flagged some possible modifications you may want/need to employ: \n",
    "\n",
    "- If you are not computing net surface heat fluxes from its components (here we define `net_surface_heating = sfc_hflux_from_runoff + sfc_hflux_coupler + sfc_hflux_pme + frazil_3d_int_z`), the function below will need to be modified to account for this.\n",
    "- If you are not looking at the southern ocean, alter the `yt_ocean` slicing regime.\n",
    "- You may want to use a different density binning array (`isopycnal_bins`)  if the phenomena you're interested in occurs in a shifted density space.\n",
    "- I use $\\sigma_1$ here because I'm interested in dense waters that subduct to the Antarctic continental shelf <1000 m depth. You may want to use $\\sigma_0$ $\\sigma_2$ or something else. If so, alter the gsw function used, and define a more appropriate `isopycnal_bins` array.\n",
    "- If you're looking at a non-interval number of years, the time averaging scheme will need to be modified.\n",
    "- If you're online computed temperatures (SST) are potential temp (as opposed to conservative temp), use the gsw function `CT_from_pt` before the `sigma1` function as `sigma1` takes conservative temperature input (more info on the TEOS-10 gsw functions [here](http://www.teos-10.org/pubs/gsw/v3_04/html/gsw_contents.html)). This is the case for older ACCESS-OM2-01 runs (e.g. spinup6).\n",
    "- On this dask setup and with the memory constraints of the VDI I don't think you would be able to do much more than a 5 year average of 0.1$^\\circ$ data using this function. You are memory limited by the numpy TEOS-10 gsw functions. If you have a need to average over more years, you mey have to do the TEOS-10 gsw translations separately and save these prior to computing transformation rates."
   ]
  },
  {
   "cell_type": "markdown",
   "metadata": {},
   "source": [
    "When analysing 0.1$^\\circ$ output I tend to compute + save and reload surface water-mass transformation diagnostics in separate steps. In part this is because the computations take a while (~13min for 5 years of data below), but I also find that there's some instability (my workers are always killed) if I instead `return net_transformation, heat_transformation, salt_transformation` and then manipulate these variables straight away (a mystery for another mind). Saving and reloading works fine however."
   ]
  },
  {
   "cell_type": "code",
   "execution_count": null,
   "metadata": {},
   "outputs": [],
   "source": [
    "test = cc.querying.getvar(expt,'surface_temp',session, ncfile='ocean_month.nc')\n",
    "test.time ## want to see what the latest years look like"
   ]
  },
  {
   "cell_type": "markdown",
   "metadata": {},
   "source": [
    "Spinup is 200 years, I'll compute surface water-mass transformation averaged over years 186-189 (2086-2089)."
   ]
  },
  {
   "cell_type": "code",
   "execution_count": null,
   "metadata": {},
   "outputs": [],
   "source": [
    "def save_SWMT(expt, session, start_time, end_time, outpath, lat_north = -59, n = None):\n",
    "    '''\n",
    "    Computes southern ocean surface water-mass transformation rates (partitioned into transformation from heat \n",
    "    and freshwater) referenced to 1000 db from monthly ACCESS-OM2 output.\n",
    "    Suitable for analysis of high-resolution (0.1 degree) output (the scattered .load()'s allowed this)\n",
    "    \n",
    "    expt - text string indicating the name of the experiment\n",
    "    session - a database session created by cc.database.create_session()  \n",
    "    start_time - text string designating the start month of the analysis ('YYYY-MM', e.g. '1905-01')\n",
    "    end_time - text string indicating the end month of the analysis ('YYY-MM', e.g. '1905-12')\n",
    "    outpath - text string indicating directory where output databases are to be saved (3 xarray databases, can\n",
    "    modify to combine these if memory permits)\n",
    "    lat_north - function computed processes between lat = -90 and lat = lat_north\n",
    "    n - designate if a subset of output files is to be considered (see cc.querying.getvar)\n",
    "    \n",
    "    NOTE: this function assumes you are averaging over an integer number of years (though the start month \n",
    "    need not be january, e.g. can have start_time = '1905-05', end_time = '1907-04' etc), modify if otherwise.\n",
    "    \n",
    "    NOTE: assumes surface_temp and surface_salt variables are in potential temperature (K) and practical\n",
    "    salinity (PSU), simplifications may be made if conservative temperature (C) and absolute salinity (g/kg)\n",
    "    are computed online\n",
    "    \n",
    "    required modules:\n",
    "    xarray as xr\n",
    "    numpy as np\n",
    "    cosima_cookbook as cc\n",
    "    from gsw import alpha, SA_from_SP, p_from_z, CT_from_pt, beta, sigma1 \n",
    "    '''\n",
    "    ## getvar all required variables\n",
    "    SST = cc.querying.getvar(expt,'surface_temp',session,ncfile='ocean_month.nc') - 273.15 # SST - conservative temperature in K (sheck this is the case for your run)\n",
    "    SSS_PSU = cc.querying.getvar(expt,'surface_salt',session,ncfile='ocean_month.nc') # SSS - practical salinity (not absolute)\n",
    "    pme_river = cc.querying.getvar(expt,'pme_river',session,ncfile='ocean_month.nc') # mass flux of precip - evap + river\n",
    "    ## getvar the components of the net surface heat fux instead of the net_surface_heating variable\n",
    "    sfc_hflux_from_runoff = cc.querying.getvar(expt,'sfc_hflux_from_runoff',session,ncfile='ocean_month.nc') # W/m2\n",
    "    sfc_hflux_coupler = cc.querying.getvar(expt,'sfc_hflux_coupler',session,ncfile='ocean_month.nc') # W/m2\n",
    "    sfc_hflux_pme = cc.querying.getvar(expt,'sfc_hflux_pme',session,ncfile='ocean_month.nc') # W/m2\n",
    "    frazil_3d_int_z = cc.querying.getvar(expt,'frazil_3d_int_z',session,ncfile='ocean_month.nc') # W/m2\n",
    "    geolon_t = cc.querying.getvar(expt,'geolon_t',session, n=1)\n",
    "    geolat_t = cc.querying.getvar(expt,'geolat_t',session, n=1)\n",
    "    ## slice for time and latitudinal constraints\n",
    "    time_slice = slice(start_time,end_time)\n",
    "    lat_slice = slice(-90,lat_north)\n",
    "    SST = SST.sel(time=time_slice, yt_ocean=lat_slice)\n",
    "    SSS_PSU = SSS_PSU.sel(time=time_slice, yt_ocean=lat_slice)\n",
    "    pme_river = pme_river.sel(time=time_slice, yt_ocean=lat_slice)\n",
    "    sfc_hflux_from_runoff = sfc_hflux_from_runoff.sel(time=time_slice, yt_ocean=lat_slice)\n",
    "    sfc_hflux_coupler = sfc_hflux_coupler.sel(time=time_slice, yt_ocean=lat_slice)\n",
    "    sfc_hflux_pme = sfc_hflux_pme.sel(time=time_slice, yt_ocean=lat_slice)\n",
    "    frazil_3d_int_z = frazil_3d_int_z.sel(time=time_slice, yt_ocean=lat_slice)\n",
    "    lon_t = geolon_t.sel(yt_ocean=lat_slice)\n",
    "    lat_t = geolat_t.sel(yt_ocean=lat_slice)\n",
    "    ## extract coordinate arrays\n",
    "    yt_ocean = SST.yt_ocean.values\n",
    "    xt_ocean = SST.xt_ocean.values\n",
    "    time_monthly = SST.time.values\n",
    "    ## construct an xarray of days per month (check this is relevant to your run), simple modification if non integer number of years analysed\n",
    "    start_month = int(start_time[5:7])\n",
    "    end_month = int(end_time[5:7])\n",
    "    n_years = int(len(SST.time)/12)\n",
    "    months_standard_noleap = np.array([31, 28, 31, 30, 31, 30, 31, 31, 30, 31, 30, 31])\n",
    "    if start_month != 1:\n",
    "        months_offset_noleap = np.append(months_standard_noleap[(start_month-1):],months_standard_noleap[:(start_month-1)])\n",
    "    else:\n",
    "        months_offset_noleap = months_standard_noleap\n",
    "    days_per_month = xr.DataArray(np.tile(months_offset_noleap, n_years), coords = [time_monthly], dims = ['time'], name = 'days per month')\n",
    "    ## compute net surface heat flux from its component terms\n",
    "    net_surface_heating = sfc_hflux_from_runoff+ sfc_hflux_coupler+ sfc_hflux_pme+ frazil_3d_int_z # W/m2\n",
    "    ## now I use some TEOS-10 gsw functions to compute absolute salinity, then potential density fields\n",
    "    ## these are numpy functions, if you have memory errors this is a good step to check (though I have found\n",
    "    ## this works on the VDI for 0.1 degree data, might be issues for very long time periods)\n",
    "    depth = -0.541281 # st_ocean value of the uppermost cell\n",
    "    depth_tile = (lat_t*0+1)*depth\n",
    "    pressure = xr.DataArray(p_from_z(depth_tile,lat_t), coords = [yt_ocean, xt_ocean], dims = ['yt_ocean', 'xt_ocean'], name = 'pressure', attrs = {'units':'dbar'})\n",
    "    # convert units to absolute salinity \n",
    "    SSS = xr.DataArray(SA_from_SP(SSS_PSU,pressure,lon_t,lat_t), coords = [time_monthly, yt_ocean, xt_ocean], dims = ['time','yt_ocean', 'xt_ocean'], name = 'sea surface salinity', attrs = {'units':'Absolute Salinity (g/kg)'})\n",
    "    ## SST is already saved as conservative temperature in this run, if you are working with an older run with potential \n",
    "    ## temperature saved, conversion will be required (make sure you work with C not K)\n",
    "    # SST = xr.DataArray(CT_from_pt(SSS_AS,SST_PT), coords = [time_monthly, yt_ocean, xt_ocean], dims = ['time','yt_ocean', 'xt_ocean'], name = 'sea surface temperature', attrs = {'units':'Conservative Temperature (C)'})\n",
    "    # compute potential density referenced to 1000dbar (or referenced otherwise, depending on your purpose)\n",
    "    pot_rho_1 = xr.DataArray(sigma1(SSS, SST), coords = [time_monthly, yt_ocean, xt_ocean], dims = ['time','yt_ocean', 'xt_ocean'], name = 'potential density ref 1000dbar', attrs = {'units':'kg/m^3 (-1000 kg/m^3)'})\n",
    "    pot_rho_1 = pot_rho_1.load()\n",
    "    # Compute salt transformation (no density binning)\n",
    "    haline_contraction = xr.DataArray(beta(SSS, SST, pressure), coords = [time_monthly, yt_ocean, xt_ocean], dims = ['time','yt_ocean', 'xt_ocean'], name = 'saline contraction coefficient (constant conservative temp)', attrs = {'units':'kg/g'})\n",
    "    salt_transformation = haline_contraction*SSS*pme_river*days_per_month #! before was PSU, why?\n",
    "    salt_transformation = salt_transformation.load()\n",
    "    # Compute heat transformation (no density binning)\n",
    "    thermal_expansion = xr.DataArray(alpha(SSS, SST, pressure), coords = [time_monthly, yt_ocean, xt_ocean], dims = ['time','yt_ocean', 'xt_ocean'], name = 'thermal expansion coefficient (constant conservative temp)', attrs = {'units':'1/K'})\n",
    "    heat_transformation =  thermal_expansion*net_surface_heating*days_per_month\n",
    "    heat_transformation = heat_transformation.load()\n",
    "    # Record the time bounds before summing through time (just to make sure it's consistent with requested years)\n",
    "    time_bounds =  str(salt_transformation.coords['time.year'][0].values)+'_'+str(salt_transformation.coords['time.month'][0].values)+'-'+str(salt_transformation.coords['time.year'][-1].values)+'_'+str(salt_transformation.coords['time.month'][-1].values)\n",
    "    \n",
    "    # Next section does a few things. It cycles through isopycnal bins, determines which cells are \n",
    "    # within the given bin for each month, finds the transformation values for those cells for each month, \n",
    "    # and sums these through time. You are left with an array of shape (isopyncal bins * lats * lons) \n",
    "    # where the array associated with a given isopycnal bin is NaN everywhere except where pot_rho_1 \n",
    "    # was within the bin, there it has a time summed transformation value.\n",
    "    \n",
    "    isopycnal_bins = np.arange(31,33.5,.02) ## alter if this density range doesn't capture surface processes in your study region, or if a different density field (not sigma1) is used\n",
    "    \n",
    "    bin_bottoms = isopycnal_bins[:-1]\n",
    "    binned_salt_transformation = xr.DataArray(np.zeros((len(bin_bottoms), len(yt_ocean), len(xt_ocean))), coords = [bin_bottoms, yt_ocean,xt_ocean], dims = ['isopycnal_bins', 'yt_ocean', 'xt_ocean'], name = 'salt transformation in isopycnal bins summed over time')\n",
    "    binned_salt_transformation.chunk({'isopycnal_bins':1})\n",
    "    for i in range(len(isopycnal_bins)-1):\n",
    "        bin_mask = pot_rho_1.where(pot_rho_1 <= isopycnal_bins[i+1]).where(pot_rho_1 > isopycnal_bins[i]) * 0 + 1\n",
    "        masked_transform = (salt_transformation * bin_mask).sum(dim = 'time') \n",
    "        masked_transform = masked_transform.where(masked_transform != 0) \n",
    "        masked_transform = masked_transform.load()\n",
    "        binned_salt_transformation[i,:,:] = masked_transform\n",
    "    print('salt_transformation binning done')\n",
    "    \n",
    "    binned_heat_transformation = xr.DataArray(np.zeros((len(bin_bottoms), len(yt_ocean), len(xt_ocean))), coords = [bin_bottoms, yt_ocean,xt_ocean], dims = ['isopycnal_bins', 'yt_ocean', 'xt_ocean'], name = 'heat transformation in isopycnal bins summed over time')\n",
    "    binned_heat_transformation.chunk({'isopycnal_bins':1})\n",
    "\n",
    "    for i in range(len(isopycnal_bins)-1):\n",
    "        bin_mask = pot_rho_1.where(pot_rho_1 <= isopycnal_bins[i+1]).where(pot_rho_1 > isopycnal_bins[i]) * 0 + 1\n",
    "        masked_transform = (heat_transformation * bin_mask).sum(dim = 'time') \n",
    "        masked_transform = masked_transform.where(masked_transform != 0)\n",
    "        masked_transform = masked_transform.load()\n",
    "        binned_heat_transformation[i,:,:] = masked_transform\n",
    "    print('heat_transformation binning done')\n",
    "    \n",
    "    ndays = days_per_month.sum().values\n",
    "    salt_transformation = binned_salt_transformation/ndays\n",
    "    c_p = 3992.1\n",
    "    heat_transformation = binned_heat_transformation/c_p/ndays\n",
    "    \n",
    "    isopycnal_bin_diff = np.diff(isopycnal_bins)\n",
    "    salt_transformation = salt_transformation/isopycnal_bin_diff[:,np.newaxis,np.newaxis]\n",
    "    heat_transformation = heat_transformation/isopycnal_bin_diff[:,np.newaxis,np.newaxis]\n",
    "    isopycnal_bin_mid = (isopycnal_bins[1:] + isopycnal_bins[:-1])/2\n",
    "    \n",
    "    # this procedure defines fluxes from lighter to denser classes as negative, I want the opposite\n",
    "    salt_transformation = salt_transformation *-1\n",
    "    heat_transformation = heat_transformation *-1\n",
    "    \n",
    "    # Convert the binned (and summed through time) salt and heat transformation DataArrays to Datasets (to save metadata) and save to netCDF\n",
    "    ds = xr.Dataset({'binned_salt_transformation': salt_transformation, 'time_bounds': time_bounds})\n",
    "    ds.to_netcdf(outpath+'/ST_'+time_bounds+'.nc')\n",
    "    ds = xr.Dataset({'binned_heat_transformation': heat_transformation, 'time_bounds': time_bounds})\n",
    "    ds.to_netcdf(outpath+'/HT_'+time_bounds+'.nc')\n",
    "    #############################################################\n",
    "    net_transformation = heat_transformation + salt_transformation\n",
    "    #############################################################\n",
    "    del(heat_transformation, salt_transformation) ## unecessary for lower res or smaller time\n",
    "    # wanted to rename the isopycnal bin (bottom edge) coord with the isopycnal bin midpoints...\n",
    "    net_transformation.coords['isopycnal_bins'] = isopycnal_bin_mid\n",
    "    ds = xr.Dataset({'surface_water_mass_transformation': net_transformation, 'time_bounds': time_bounds})\n",
    "    ds.to_netcdf(outpath+'/SWMT_'+time_bounds+'.nc')\n",
    "    del(net_transformation)\n",
    "    return outpath, time_bounds ## helpful for re-loading"
   ]
  },
  {
   "cell_type": "code",
   "execution_count": null,
   "metadata": {},
   "outputs": [],
   "source": [
    "%%time\n",
    "## Make a temporary directory to stash a few files\n",
    "!mkdir -p SWMT_temp\n",
    "outpath = 'SWMT_temp/' # use a path where you have write permission\n",
    "outpath, time_bounds = save_SWMT(expt, session, '2086-01', '2089-12', outpath)"
   ]
  },
  {
   "cell_type": "markdown",
   "metadata": {},
   "source": [
    "## 4. Reload computed surface water-mass transformation"
   ]
  },
  {
   "cell_type": "code",
   "execution_count": null,
   "metadata": {},
   "outputs": [],
   "source": [
    "def get_SWMT(outpath, time_bounds):\n",
    "    net_transformation = xr.open_dataset(outpath+'/SWMT_'+time_bounds+'.nc', chunks={'isopycnal_bins':1})\n",
    "    net_transformation = net_transformation.surface_water_mass_transformation\n",
    "    heat_transformation = xr.open_dataset(outpath+'/HT_'+time_bounds+'.nc', chunks={'isopycnal_bins':1})\n",
    "    heat_transformation = heat_transformation.binned_heat_transformation\n",
    "    salt_transformation = xr.open_dataset(outpath+'/ST_'+time_bounds+'.nc', chunks={'isopycnal_bins':1})\n",
    "    salt_transformation = salt_transformation.binned_salt_transformation\n",
    "    return  net_transformation, heat_transformation, salt_transformation"
   ]
  },
  {
   "cell_type": "markdown",
   "metadata": {},
   "source": [
    "## 5. Plotting options: summed over southern ocean, south of 59S"
   ]
  },
  {
   "cell_type": "markdown",
   "metadata": {},
   "source": [
    "One useful way of visualising the surface water-mass transformation metric is to sum the transformation rates (in density bins) over the analysis region, which here is the entire southern ocean south of 59S."
   ]
  },
  {
   "cell_type": "code",
   "execution_count": null,
   "metadata": {},
   "outputs": [],
   "source": [
    "area_t = cc.querying.getvar(expt,'area_t',session, n=1) # needed for the plots I'll provide.\n",
    "swmt, heat, salt = get_SWMT(outpath, time_bounds)\n",
    "## sum over region, convert to Sv\n",
    "isopycnal_bin_mid = swmt.isopycnal_bins\n",
    "swmt_sum = (swmt * area_t/1e6).sum(['xt_ocean', 'yt_ocean']).values\n",
    "heat_sum = (heat * area_t/1e6).sum(['xt_ocean', 'yt_ocean']).values\n",
    "salt_sum = (salt * area_t/1e6).sum(['xt_ocean', 'yt_ocean']).values"
   ]
  },
  {
   "cell_type": "code",
   "execution_count": null,
   "metadata": {},
   "outputs": [],
   "source": [
    "figure = plt.figure(num=1, figsize = (10, 10))\n",
    "plt.plot(swmt_sum,isopycnal_bin_mid,color = 'k', label='net')\n",
    "plt.plot(heat_sum,isopycnal_bin_mid,color = 'r', label='heat')\n",
    "plt.plot(salt_sum,isopycnal_bin_mid,color = 'b', label='salt')\n",
    "plt.plot([0, 0],[31, 33.2], 'k', linewidth=0.5)\n",
    "plt.ylim((33.2, 31))\n",
    "plt.ylabel(r'$\\sigma_{1}$ (kg m$^{-3}$)', fontsize = 30)\n",
    "plt.xlabel('Surface water-mass transformation (Sv)', fontsize=30)\n",
    "plt.legend(loc=3, fontsize = 25)"
   ]
  },
  {
   "cell_type": "markdown",
   "metadata": {},
   "source": [
    "Here the positive peak in the high density classes indicates a rate of subduction due to surface densification processes (predominantly freshwater fluxes associated with sea-ice processes in this case). The negative peak indicates upwelling rates. "
   ]
  },
  {
   "cell_type": "markdown",
   "metadata": {},
   "source": [
    "## 6. Plotting options: Antarctic shelf dense water formation"
   ]
  },
  {
   "cell_type": "markdown",
   "metadata": {},
   "source": [
    "You, like me, might be interested in dense water formation on the Anarctic continental shelf. Below I've outlined a procedure whereby you can identify the density of subducting waters on the continental shelf, and map the locations where this sudbuction occurs.\n",
    "\n",
    "You will need a way of masking for the continental shelf. You might just use a simple depth criterion, but here I define the shelf region using a mask that selects cells poleward of a continuous approximation of the 1000 m isobath surrounding Antartcica."
   ]
  },
  {
   "cell_type": "code",
   "execution_count": null,
   "metadata": {},
   "outputs": [],
   "source": [
    "def shelf_mask_isobath(var):\n",
    "    '''\n",
    "    Masks ACCESS-OM2-01 variables by the region polewards of the 1000m isobath as computed using \n",
    "    a script contributed by Adele Morrison.\n",
    "    Only to be used with ACCESS-OM2-0.1 output!\n",
    "    '''\n",
    "    contour_file = np.load('/g/data/ik11/grids/Antarctic_slope_contour_1000m.npz')\n",
    "    shelf_mask = contour_file['contour_masked_above']\n",
    "    yt_ocean = contour_file['yt_ocean']\n",
    "    xt_ocean = contour_file['xt_ocean']\n",
    "    # in this file the points along the isobath are given a positive value, the points outside (northwards) \n",
    "    # of the isobath are given a value of -100 and all the points on the continental shelf have a value of 0 \n",
    "    # so we mask for the 0 values \n",
    "    shelf_mask[np.where(shelf_mask!=0)] = np.nan\n",
    "    shelf_mask = shelf_mask+1\n",
    "    shelf_map = np.nan_to_num(shelf_mask)\n",
    "    shelf_mask = xr.DataArray(shelf_mask, coords = [('yt_ocean', yt_ocean), ('xt_ocean', xt_ocean)])\n",
    "    shelf_map = xr.DataArray(shelf_map, coords = [('yt_ocean', yt_ocean), ('xt_ocean', xt_ocean)])\n",
    "    # then we want to multiply the variable with the mask so we need to account for the shape of the mask. \n",
    "    # The mask uses a northern cutoff of 59S.\n",
    "    masked_var = var.sel(yt_ocean = slice(-90, -59.03)) * shelf_mask\n",
    "    return masked_var, shelf_map"
   ]
  },
  {
   "cell_type": "markdown",
   "metadata": {},
   "source": [
    "Below I've plotted the positioning of this isobath boundary."
   ]
  },
  {
   "cell_type": "code",
   "execution_count": null,
   "metadata": {},
   "outputs": [],
   "source": [
    "ht = cc.querying.getvar(expt,'ht', session, n=1) \n",
    "ht = ht.sel(yt_ocean = slice(-90, -59))\n",
    "land_mask = (ht*0).fillna(1)\n",
    "yt_ocean = ht.yt_ocean.values\n",
    "xt_ocean = ht.xt_ocean.values\n",
    "ht_shelf , shelf_mask = shelf_mask_isobath(ht)"
   ]
  },
  {
   "cell_type": "code",
   "execution_count": null,
   "metadata": {},
   "outputs": [],
   "source": [
    "fig = plt.figure(num=1,figsize=(10,10))\n",
    "ax = plt.subplot(projection=ccrs.SouthPolarStereo())\n",
    "\n",
    "ax.contour(xt_ocean, yt_ocean, land_mask,[0,1], colors = 'k', alpha = 0.4, transform=ccrs.PlateCarree())\n",
    "ax.contour(xt_ocean, yt_ocean, shelf_mask.values, [0,1], colors = 'r', transform=ccrs.PlateCarree())\n",
    "\n",
    "theta = np.linspace(0, 2*np.pi, 100)\n",
    "center, radius = [0.5, 0.5], 0.5\n",
    "verts = np.vstack([np.sin(theta), np.cos(theta)]).T\n",
    "circle = mpath.Path(verts * radius + center)\n",
    "ax.set_boundary(circle, transform=ax.transAxes)\n",
    "ax.set_extent([-180, 180, -90, -59], ccrs.PlateCarree())\n",
    "ax.outline_patch.set_visible(False)"
   ]
  },
  {
   "cell_type": "markdown",
   "metadata": {},
   "source": [
    "Now I'll repoduce the previous surface water-mass transformation plot but for the continental shelf region only."
   ]
  },
  {
   "cell_type": "code",
   "execution_count": null,
   "metadata": {},
   "outputs": [],
   "source": [
    "swmt_shelf, shelf_mask = shelf_mask_isobath(swmt)\n",
    "heat_shelf, shelf_mask = shelf_mask_isobath(heat)\n",
    "salt_shelf, shelf_mask = shelf_mask_isobath(salt)\n",
    "area_t_shelf, shelf_mask = shelf_mask_isobath(area_t)\n",
    "swmt_shelf_sum = (swmt_shelf * area_t_shelf/1e6).sum(['xt_ocean','yt_ocean']).values\n",
    "heat_shelf_sum = (heat_shelf * area_t_shelf/1e6).sum(['xt_ocean','yt_ocean']).values\n",
    "salt_shelf_sum = (salt_shelf * area_t_shelf/1e6).sum(['xt_ocean','yt_ocean']).values"
   ]
  },
  {
   "cell_type": "code",
   "execution_count": null,
   "metadata": {},
   "outputs": [],
   "source": [
    "figure = plt.figure(num = 1, figsize = (10,10))\n",
    "plt.plot(swmt_shelf_sum, isopycnal_bin_mid,color = 'k',label='net')\n",
    "plt.plot(heat_shelf_sum, isopycnal_bin_mid,color = 'r',label='heat')\n",
    "plt.plot(salt_shelf_sum, isopycnal_bin_mid,color = 'b',label='salt')\n",
    "plt.plot([0, 0],[31, 33.2], 'k', linewidth=0.5)\n",
    "plt.ylim((33.2, 31))\n",
    "plt.ylabel(r'$\\sigma_{1}$ (kg m$^{-3}$)', fontsize = 30)\n",
    "plt.xlabel('Surface water-mass transformation (Sv)', fontsize = 30)\n",
    "plt.legend(loc=1, fontsize = 25)"
   ]
  },
  {
   "cell_type": "markdown",
   "metadata": {},
   "source": [
    "This shows us that contienntal shelf surface waters are made denser (almost entirely by sea-ice freshwater fluxes) and subduct away from the surface at a rate of over 10 Sv! Where does this happen? If we map the surface water-mass transformation rate across the density class experiences the peak positive transformation rate when summed over the shelf, we will be able to see where waters are subducting."
   ]
  },
  {
   "cell_type": "code",
   "execution_count": null,
   "metadata": {},
   "outputs": [],
   "source": [
    "max_transformation_index = np.argmax(swmt_shelf_sum) \n",
    "max_transformation_density = isopycnal_bin_mid[max_transformation_index]\n",
    "print('Shelf subduction density:',max_transformation_density.values)\n",
    "shelf_subduction_plot = swmt_shelf.isel(isopycnal_bins = max_transformation_index)*1e5\n",
    "swmt_xt = shelf_subduction_plot.xt_ocean\n",
    "swmt_yt = shelf_subduction_plot.yt_ocean"
   ]
  },
  {
   "cell_type": "code",
   "execution_count": null,
   "metadata": {},
   "outputs": [],
   "source": [
    "fig  = plt.figure(1, figsize = (20,10))\n",
    "gs = gridspec.GridSpec(1,2, width_ratios = [3,2]) \n",
    "gs.update(wspace = 0.05)\n",
    "\n",
    "ax, ax1= plt.subplot(gs[0], projection=ccrs.SouthPolarStereo()), plt.subplot(gs[1])\n",
    "\n",
    "ax.contour(xt_ocean, yt_ocean,land_mask,[0,1], colors = 'k', alpha = 0.3, transform = ccrs.PlateCarree() )\n",
    "ax.contour(shelf_mask.xt_ocean, shelf_mask.yt_ocean,shelf_mask,[0,1], colors = 'k', alpha =0.8, transform = ccrs.PlateCarree())\n",
    "norm = col.Normalize(vmin=0,vmax=2.5)\n",
    "plot_swmt = ax.pcolormesh(swmt_xt,swmt_yt,shelf_subduction_plot,vmin=0,vmax=2.5,cmap= cmo.matter,transform=ccrs.PlateCarree())\n",
    "\n",
    "theta = np.linspace(0, 2*np.pi, 100)\n",
    "center, radius = [0.5, 0.5], 0.5\n",
    "verts = np.vstack([np.sin(theta), np.cos(theta)]).T\n",
    "circle = mpath.Path(verts * radius + center)\n",
    "#ax.set_boundary(circle, transform=ax.transAxes)\n",
    "ax.set_extent([-180, 180, -90, -59], ccrs.PlateCarree())\n",
    "ax.outline_patch.set_visible(False)\n",
    "\n",
    "cax = fig.add_axes([0.27, 0.13, 0.2, 0.04])\n",
    "cbar=plt.colorbar(plot_swmt, cax=cax, orientation='horizontal', shrink = 0.5, ticks = [0, 0.5, 1, 1.5, 2, 2.5, 3])\n",
    "cbar.set_label(r'Surface water-mass transformation ($\\times 10^{-5}$m s$^{-1}$)', fontsize = 25)\n",
    "\n",
    "ax1.plot(swmt_shelf_sum,isopycnal_bin_mid,color = 'k',label='net')\n",
    "ax1.plot(heat_shelf_sum,isopycnal_bin_mid,color = 'r',label='heat')\n",
    "ax1.plot(salt_shelf_sum,isopycnal_bin_mid,color = 'b',label='salt')\n",
    "ax1.plot([0, 0],[31, 33.2], 'k', linewidth=0.5)\n",
    "ax1.plot([-5, 15],[max_transformation_density,max_transformation_density],'k--',linewidth=1)\n",
    "ax1.set_ylim((33.2, 31))\n",
    "ax1.set_xlim((-1.5, 12.1))\n",
    "ax1.set_ylabel(r'$\\sigma_{1}$ (kg m$^{-3}$)', fontsize = 30)\n",
    "ax1.set_xlabel('Surface water-mass transformation (Sv)', fontsize = 30)\n",
    "ax1.legend(loc=1, fontsize = 25)"
   ]
  },
  {
   "cell_type": "markdown",
   "metadata": {},
   "source": [
    "The map in the left panel shows the spatial distribution of surface water-mass transformation across the density class indicated with the dashed line in the right panel."
   ]
  }
 ],
 "metadata": {
  "kernelspec": {
   "display_name": "Python [conda env:analysis3-20.04]",
   "language": "python",
   "name": "conda-env-analysis3-20.04-py"
  },
  "language_info": {
   "codemirror_mode": {
    "name": "ipython",
    "version": 3
   },
   "file_extension": ".py",
   "mimetype": "text/x-python",
   "name": "python",
   "nbconvert_exporter": "python",
   "pygments_lexer": "ipython3",
   "version": "3.7.6"
  }
 },
 "nbformat": 4,
 "nbformat_minor": 4
}
