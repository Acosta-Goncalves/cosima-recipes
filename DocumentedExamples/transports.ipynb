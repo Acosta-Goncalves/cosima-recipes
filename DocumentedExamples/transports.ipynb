{
 "cells": [
  {
   "cell_type": "markdown",
   "metadata": {
    "extensions": {
     "jupyter_dashboards": {
      "version": 1,
      "views": {
       "grid_default": {
        "col": 0,
        "height": 4,
        "hidden": false,
        "row": 36,
        "width": 12
       },
       "report_default": {
        "hidden": false
       }
      }
     }
    }
   },
   "source": [
    "# Mass Transports\n",
    "\n",
    "Transport diagnostics for flow through major straits.\n",
    "\n",
    "## Theory\n",
    "\n",
    "Formally, mass transports are given by\n",
    "$$T_x = \\rho u  $$\n",
    "$$T_y = \\rho v  $$\n",
    "\n",
    "Mass transports are diagnostics that are calculated online by the model:\n",
    "\n",
    "|--|\n",
    "|variable|long name|units|dimensions|\n",
    "|--|\n",
    "|tx_trans|T-cell i-mass transport|Sv|(time,st_ocean,xu_ocean,yt_ocean)|\n",
    "|ty_trans|T-cell j-mass transport|Sv|(time,st_ocean,xt_ocean,yu_ocean)|\n",
    "\n",
    "\n",
    "These variables are saved in `ocean.nc` files.\n",
    "\n"
   ]
  },
  {
   "cell_type": "markdown",
   "metadata": {},
   "source": [
    "## Calculation"
   ]
  },
  {
   "cell_type": "code",
   "execution_count": 1,
   "metadata": {},
   "outputs": [],
   "source": [
    "%matplotlib inline\n",
    "\n",
    "import cosima_cookbook as cc\n",
    "import matplotlib.pyplot as plt"
   ]
  },
  {
   "cell_type": "markdown",
   "metadata": {},
   "source": [
    "Use default database for this calculation"
   ]
  },
  {
   "cell_type": "code",
   "execution_count": 2,
   "metadata": {},
   "outputs": [],
   "source": [
    "session = cc.database.create_session()"
   ]
  },
  {
   "cell_type": "markdown",
   "metadata": {},
   "source": [
    "This dictionary defines a few key choke points that you might be interested in. For the purposes of demonstration we are just using Drake Passage in this example."
   ]
  },
  {
   "cell_type": "code",
   "execution_count": 3,
   "metadata": {},
   "outputs": [],
   "source": [
    "straights = { 'DrakePassage': [-69.9, -69.9, -71.6, -51.0],\n",
    "              'Lombok':       [-244.6+360, -243.9+360, -8.6, -8.6],\n",
    "              'Ombai' :       [-235.0+360, -235.0+360, -9.2, -8.1],\n",
    "              'Timor' :       [-235.9+360, -235.9+360, -11.9, -9.9],\n",
    "              'Bering' :      [-172, -167, 65.8, 65.8],\n",
    "              'Denmark' :     [-42, -22, 65.8, 65.8],\n",
    "            }"
   ]
  },
  {
   "cell_type": "code",
   "execution_count": 12,
   "metadata": {},
   "outputs": [],
   "source": [
    "def calc_transport(expt, straight, n=24):\n",
    "    \"\"\"\n",
    "    Calculate barotropic transport across a given \n",
    "     line of latitude or longitude.\n",
    "     \n",
    "    Designed for flow through straits.\n",
    "    \"\"\"\n",
    "    \n",
    "    print('Calculating {}:{} transport'.format(expt, straight))\n",
    "    \n",
    "    xmin, xmax, ymin, ymax = straights[straight]\n",
    "    \n",
    "    if xmin == xmax:                \n",
    "        tx_trans = cc.querying.getvar(expt,'tx_trans',session)\n",
    "        \n",
    "        transport = tx_trans.sel(xu_ocean=xmin, method='nearest')\\\n",
    "                            .sel(yt_ocean=slice(ymin, ymax))\\\n",
    "                            .sum('st_ocean').sum('yt_ocean')/1e6/1036\n",
    "\n",
    "    elif ymin == ymax:\n",
    "        ty_trans = cc.querying.getvar(expt,'tx_trans',session)\n",
    "        transport = ty_trans.sel(yu_ocean=ymin, method='nearest')\\\n",
    "                            .sel(xt_ocean=slice(xmin, xmax))\\\n",
    "                            .sum('st_ocean').sum('xt_ocean')/1e6/1036\n",
    "    else:\n",
    "        raise ValueError('Transports are computed only along lines of either constant latitude or longitude')\n",
    "    \n",
    "    transport = transport.compute()\n",
    "       \n",
    "    return transport"
   ]
  },
  {
   "cell_type": "code",
   "execution_count": 14,
   "metadata": {},
   "outputs": [
    {
     "name": "stdout",
     "output_type": "stream",
     "text": [
      "Calculating 01deg_jra55v13_ryf8485_spinup6_000-413:DrakePassage transport\n"
     ]
    },
    {
     "name": "stderr",
     "output_type": "stream",
     "text": [
      "/g/data3/hh5/public/apps/miniconda3/envs/analysis3-19.10/lib/python3.6/site-packages/xarray/coding/times.py:459: SerializationWarning: Unable to decode time axis into full numpy.datetime64 objects, continuing using cftime.datetime objects instead, reason: dates out of range\n",
      "  dtype = _decode_cf_datetime_dtype(data, units, calendar, self.use_cftime)\n",
      "/g/data3/hh5/public/apps/miniconda3/envs/analysis3-19.10/lib/python3.6/site-packages/cosima_cookbook/querying.py:134: FutureWarning: In xarray version 0.15 the default behaviour of `open_mfdataset`\n",
      "will change. To retain the existing behavior, pass\n",
      "combine='nested'. To use future default behavior, pass\n",
      "combine='by_coords'. See\n",
      "http://xarray.pydata.org/en/stable/combining.html#combining-multi\n",
      "\n",
      "  **xr_kwargs\n",
      "/g/data3/hh5/public/apps/miniconda3/envs/analysis3-19.10/lib/python3.6/site-packages/xarray/backends/api.py:931: FutureWarning: The datasets supplied have global dimension coordinates. You may want\n",
      "to use the new `combine_by_coords` function (or the\n",
      "`combine='by_coords'` option to `open_mfdataset`) to order the datasets\n",
      "before concatenation. Alternatively, to continue concatenating based\n",
      "on the order the datasets are supplied in future, please use the new\n",
      "`combine_nested` function (or the `combine='nested'` option to\n",
      "open_mfdataset).\n",
      "  from_openmfds=True,\n",
      "/g/data3/hh5/public/apps/miniconda3/envs/analysis3-19.10/lib/python3.6/site-packages/numpy/core/fromnumeric.py:90: RuntimeWarning: overflow encountered in reduce\n",
      "  return ufunc.reduce(obj, axis, dtype, out, **passkwargs)\n"
     ]
    },
    {
     "name": "stdout",
     "output_type": "stream",
     "text": [
      "CPU times: user 7min 46s, sys: 2min, total: 9min 46s\n",
      "Wall time: 16min 25s\n"
     ]
    }
   ],
   "source": [
    "%%time\n",
    "#expt = '025deg_jra55v13_ryf8485_gmredi6'\n",
    "expt = '01deg_jra55v13_ryf8485_spinup6_000-413'\n",
    "transport = calc_transport(expt, 'DrakePassage')"
   ]
  },
  {
   "cell_type": "code",
   "execution_count": 18,
   "metadata": {},
   "outputs": [
    {
     "data": {
      "text/plain": [
       "[<matplotlib.lines.Line2D at 0x7f5b6498c5f8>]"
      ]
     },
     "execution_count": 18,
     "metadata": {},
     "output_type": "execute_result"
    },
    {
     "data": {
      "image/png": "[encoded data removed]",
      "text/plain": [
       "<Figure size 432x288 with 1 Axes>"
      ]
     },
     "metadata": {
      "needs_background": "light"
     },
     "output_type": "display_data"
    }
   ],
   "source": [
    "transport.plot(linestyle='-')"
   ]
  },
  {
   "cell_type": "code",
   "execution_count": null,
   "metadata": {},
   "outputs": [],
   "source": []
  }
 ],
 "metadata": {
  "extensions": {
   "jupyter_dashboards": {
    "activeView": "grid_default",
    "version": 1,
    "views": {
     "grid_default": {
      "cellMargin": 10,
      "defaultCellHeight": 20,
      "maxColumns": 12,
      "name": "grid",
      "type": "grid"
     },
     "report_default": {
      "name": "report",
      "type": "report"
     }
    }
   }
  },
  "kernelspec": {
   "display_name": "Python [conda env:analysis3-19.10]",
   "language": "python",
   "name": "conda-env-analysis3-19.10-py"
  },
  "language_info": {
   "codemirror_mode": {
    "name": "ipython",
    "version": 3
   },
   "file_extension": ".py",
   "mimetype": "text/x-python",
   "name": "python",
   "nbconvert_exporter": "python",
   "pygments_lexer": "ipython3",
   "version": "3.6.7"
  },
  "nbdime-conflicts": {
   "local_diff": [
    {
     "diff": [
      {
       "diff": [
        {
         "diff": [
          {
           "key": 4,
           "op": "addrange",
           "valuelist": "5"
          },
          {
           "key": 4,
           "length": 1,
           "op": "removerange"
          }
         ],
         "key": 0,
         "op": "patch"
        }
       ],
       "key": "version",
       "op": "patch"
      }
     ],
     "key": "language_info",
     "op": "patch"
    }
   ],
   "remote_diff": [
    {
     "diff": [
      {
       "diff": [
        {
         "diff": [
          {
           "key": 4,
           "op": "addrange",
           "valuelist": "4"
          },
          {
           "key": 4,
           "length": 1,
           "op": "removerange"
          }
         ],
         "key": 0,
         "op": "patch"
        }
       ],
       "key": "version",
       "op": "patch"
      }
     ],
     "key": "language_info",
     "op": "patch"
    }
   ]
  }
 },
 "nbformat": 4,
 "nbformat_minor": 2
}
